{
 "cells": [
  {
   "cell_type": "markdown",
   "metadata": {},
   "source": [
    "# Mira\n",
    "## Quantum Sudoku Solver"
   ]
  },
  {
   "cell_type": "markdown",
   "metadata": {},
   "source": [
    "### Setup"
   ]
  },
  {
   "cell_type": "code",
   "execution_count": 89,
   "metadata": {},
   "outputs": [],
   "source": [
    "import matplotlib.pyplot as plt\n",
    "import numpy as np\n",
    "import math\n",
    "from IPython.display import clear_output\n",
    "import os\n",
    "from random import randint, random"
   ]
  },
  {
   "cell_type": "code",
   "execution_count": 21,
   "metadata": {
    "tags": []
   },
   "outputs": [
    {
     "data": {
      "text/plain": [
       "1"
      ]
     },
     "execution_count": 21,
     "metadata": {},
     "output_type": "execute_result"
    }
   ],
   "source": [
    "%pip install qiskit\n",
    "%pip install qiskit[visualization]\n",
    "%pip install pylatexenc\n",
    "%pip install tabulate\n",
    "\n",
    "for i in range(100):\n",
    "    clear_output(True)\n",
    "os.system('clear')"
   ]
  },
  {
   "cell_type": "code",
   "execution_count": 22,
   "metadata": {},
   "outputs": [],
   "source": [
    "from tabulate import tabulate\n",
    "\n",
    "from qiskit import *\n",
    "from qiskit.providers.ibmq import least_busy\n",
    "from qiskit.quantum_info import Statevector\n",
    "from qiskit.visualization import plot_histogram"
   ]
  },
  {
   "cell_type": "markdown",
   "metadata": {},
   "source": [
    "### Helpers"
   ]
  },
  {
   "cell_type": "code",
   "execution_count": 23,
   "metadata": {},
   "outputs": [],
   "source": [
    "DRAW_FORMAT = 'mpl'"
   ]
  },
  {
   "cell_type": "code",
   "execution_count": 24,
   "metadata": {},
   "outputs": [],
   "source": [
    "def display_qc(qc):\n",
    "    display(qc.draw(DRAW_FORMAT, fold=-1))"
   ]
  },
  {
   "cell_type": "code",
   "execution_count": 25,
   "metadata": {},
   "outputs": [],
   "source": [
    "def final_turn(n):\n",
    "    N = 1 << n\n",
    "    theta = math.asin(1 / N**(1/2))\n",
    "    t = 0 if n < 2 else 1 if n == 2 else int((math.pi / (2 * theta) - 1) / 2)\n",
    "    print(theta * 180 / math.pi)\n",
    "    print(t)\n",
    "    return (2*t + 1) * (theta * 180 / math.pi)"
   ]
  },
  {
   "cell_type": "markdown",
   "metadata": {},
   "source": [
    "#### Sudoku Analyzer"
   ]
  },
  {
   "cell_type": "code",
   "execution_count": 62,
   "metadata": {},
   "outputs": [],
   "source": [
    "class Sudoku:\n",
    "    def __loc_id(self, r, c):\n",
    "        return r * self.size + c\n",
    "\n",
    "    def __get_unknowns(self):\n",
    "        unknowns = []\n",
    "        for r in range(self.size):\n",
    "            for c in range(self.size):\n",
    "                if self.puzzle[r][c] == -1:\n",
    "                    unknowns.append((r, c))\n",
    "        return unknowns\n",
    "\n",
    "    def __to_bin(self, val):\n",
    "        b = bin(val)[2:][::-1]\n",
    "        return b.ljust(2, '0')\n",
    "\n",
    "    def __merge(self, states:list) -> str:\n",
    "        assert len(states)\n",
    "        res = states[0]\n",
    "        for state in states[1:]:\n",
    "            res = self.__superimpose(res, state)\n",
    "        return res\n",
    "\n",
    "    def __superimpose(self, a, b):\n",
    "        assert len(a) == len(b)\n",
    "        superposition = ''\n",
    "        for i in range(len(a)):\n",
    "            superposition += a[i] if a[i] == b[i] else '?'\n",
    "        return superposition\n",
    "\n",
    "    def __get_candidates(self):\n",
    "        candidates = {}\n",
    "        for (r, c) in self.unknowns:\n",
    "            candidates[(r, c)] = self.__get_candidates_util(r, c)\n",
    "        return candidates\n",
    "\n",
    "    def __get_candidates_util(self, r, c):\n",
    "        assert self.puzzle[r][c] == -1\n",
    "        candidates = set([i for i in range(self.size)])\n",
    "\n",
    "        for i in range(self.size):\n",
    "            candidates.discard(self.puzzle[r][i])\n",
    "            candidates.discard(self.puzzle[i][c])\n",
    "\n",
    "        _r = r - r % self.sq_size\n",
    "        _c = c - c % self.sq_size\n",
    "        moves = [\n",
    "            (0, 0),\n",
    "            (0, 1),\n",
    "            (1, 0),\n",
    "            (1, 1)\n",
    "        ]\n",
    "        for dr, dc in moves:\n",
    "            nr = _r + dr\n",
    "            nc = _c + dc\n",
    "            candidates.discard(self.puzzle[nr][nc])\n",
    "\n",
    "        return candidates\n",
    "\n",
    "    def __get_clauses(self) -> list:\n",
    "        clauses = set()\n",
    "        for (r, c) in self.unknowns:\n",
    "            assert self.puzzle[r][c] == -1\n",
    "\n",
    "            for i in range(self.size):\n",
    "                if self.puzzle[r][i] == -1 and not self.candidates[(r, i)].isdisjoint(self.candidates[(r, c)]):\n",
    "                    clauses.add(tuple(sorted([\n",
    "                        self.unknowns.index((r, c)),\n",
    "                        self.unknowns.index((r, i))\n",
    "                    ])))\n",
    "                if self.puzzle[i][c] == -1 and not self.candidates[(i, c)].isdisjoint(self.candidates[(r, c)]):\n",
    "                    clauses.add(tuple(sorted([\n",
    "                        self.unknowns.index((r, c)),\n",
    "                        self.unknowns.index((i, c))\n",
    "                    ])))\n",
    "\n",
    "            _r = r - r % self.sq_size\n",
    "            _c = c - c % self.sq_size\n",
    "            moves = [\n",
    "                (0, 0),\n",
    "                (0, 1),\n",
    "                (1, 0),\n",
    "                (1, 1)\n",
    "            ]\n",
    "            for dr, dc in moves:\n",
    "                nr = _r + dr\n",
    "                nc = _c + dc\n",
    "                if self.puzzle[nr][nc] == -1 and not self.candidates[(nr, nc)].isdisjoint(self.candidates[(r, c)]):\n",
    "                    clauses.add(tuple(sorted([\n",
    "                        self.unknowns.index((r, c)),\n",
    "                        self.unknowns.index((nr, nc))\n",
    "                    ])))\n",
    "        \n",
    "        clauses = [(i, j) for (i, j) in clauses if i != j]\n",
    "        clauses = [(i, j) for (i, j) in clauses if '?' in {self.mask[2 * i], self.mask[2 * i + 1], self.mask[2 * j], self.mask[2 * j + 1]}]\n",
    "        clauses = [(i, j) for (i, j) in clauses if not ((self.mask[2 * i], self.mask[2 * j]) in [('0', '1'), ('1', '0')])]\n",
    "        clauses = [(i, j) for (i, j) in clauses if not ((self.mask[2 * i + 1], self.mask[2 * j + 1]) in [('0', '1'), ('1', '0')])]\n",
    "        return clauses\n",
    "\n",
    "    def __find_mask(self):\n",
    "        mask = ''\n",
    "        for (r, c) in self.unknowns:\n",
    "            assert self.puzzle[r][c] == -1\n",
    "            mask += self.__merge([self.__to_bin(cand) for cand in self.candidates[(r, c)]])\n",
    "\n",
    "        self.unknown_bits = [i for i in range(len(mask)) if mask[i] == '?']\n",
    "        if len(self.unknown_bits) == 1:\n",
    "            puzzle = self.puzzle\n",
    "            for idx, (r, c) in enumerate(self.unknowns):\n",
    "                if len(self.candidates[(r, c)]) == 1:\n",
    "                    puzzle[r][c] = list(self.candidates[(r, c)])[0]\n",
    "            self.__init__(puzzle)\n",
    "            return self.__find_mask()\n",
    "\n",
    "        return mask\n",
    "\n",
    "    def __get_abs_checks(self):\n",
    "        abs_checks = []\n",
    "        for (r, c) in self.unknowns:\n",
    "            for fill in range(self.size):\n",
    "                idx = self.unknowns.index((r, c))\n",
    "                if fill not in self.candidates[(r, c)] and self.mask[2 * idx] == '?' and self.mask[2 * idx + 1] == '?':\n",
    "                    abs_checks.append((idx, fill))\n",
    "        return abs_checks\n",
    "\n",
    "    def __init__(self, puzzle):\n",
    "        self.puzzle = puzzle\n",
    "        assert len(puzzle) and len(puzzle) == len(puzzle[0])\n",
    "        self.size = len(puzzle)\n",
    "        self.sq_size = int(math.sqrt(self.size))\n",
    "        self.unknowns = self.__get_unknowns()\n",
    "        self.num_unknowns = len(self.unknowns)\n",
    "        self.candidates = self.__get_candidates()\n",
    "        self.mask = self.__find_mask()\n",
    "        self.clauses = self.__get_clauses()\n",
    "        self.abs_checks = self.__get_abs_checks()\n",
    "\n",
    "    def fill(self, soln):\n",
    "        assert len(soln) == self.num_unknowns\n",
    "        for idx, (r, c) in enumerate(self.unknowns):\n",
    "            self.puzzle[r][c] = soln[idx]\n",
    "\n",
    "    def is_valid(self):\n",
    "        valid_fills = set(range(self.size))\n",
    "\n",
    "        for i in range(self.size):\n",
    "            tmp = set()\n",
    "            for j in range(self.size):\n",
    "                assert self.puzzle[i][j] in valid_fills\n",
    "                tmp.add(self.puzzle[i][j])\n",
    "            if len(tmp) != self.size:\n",
    "                return False\n",
    "\n",
    "        for i in range(self.size):\n",
    "            tmp = set()\n",
    "            for j in range(self.size):\n",
    "                assert self.puzzle[j][i] in valid_fills\n",
    "                tmp.add(self.puzzle[j][i])\n",
    "            if len(tmp) != self.size:\n",
    "                return False\n",
    "\n",
    "        corners = [\n",
    "            (0, 0),\n",
    "            (0, 2),\n",
    "            (2, 0),\n",
    "            (2, 2)\n",
    "        ]\n",
    "        moves = [\n",
    "            (0, 0),\n",
    "            (0, 1),\n",
    "            (1, 0),\n",
    "            (1, 1)\n",
    "        ]\n",
    "        for (r, c) in corners:\n",
    "            tmp = set()\n",
    "            for dr, dc in moves:\n",
    "                nr = r + dr\n",
    "                nc = c + dc\n",
    "                assert self.puzzle[nr][nc] in valid_fills\n",
    "                tmp.add(self.puzzle[nr][nc])\n",
    "            if len(tmp) != self.size:\n",
    "                return False\n",
    "\n",
    "        return True\n",
    "\n",
    "    def __repr__(self):\n",
    "        return tabulate(self.puzzle, tablefmt='fancy_grid')\n"
   ]
  },
  {
   "cell_type": "code",
   "execution_count": 61,
   "metadata": {},
   "outputs": [
    {
     "name": "stdout",
     "output_type": "stream",
     "text": [
      "??100000?00100\n",
      "╒════╤════╤════╤════╕\n",
      "│  3 │  0 │ -1 │ -1 │\n",
      "├────┼────┼────┼────┤\n",
      "│  2 │  1 │ -1 │  3 │\n",
      "├────┼────┼────┼────┤\n",
      "│ -1 │  3 │ -1 │  2 │\n",
      "├────┼────┼────┼────┤\n",
      "│  1 │ -1 │  3 │ -1 │\n",
      "╘════╧════╧════╧════╛\n",
      "{(0, 2): {1, 2}, (0, 3): {1}, (1, 2): {0}, (2, 0): {0}, (2, 2): {0, 1}, (3, 1): {2}, (3, 3): {0}}\n",
      "[(0, 0), (0, 3)]\n"
     ]
    }
   ],
   "source": [
    "puzzle = [\n",
    "    [3, 0, -1, -1],\n",
    "    [2, 1, -1, 3],\n",
    "    [-1, 3, -1, 2],\n",
    "    [1, -1, 3, -1]\n",
    "]\n",
    "\n",
    "sudoku = Sudoku(puzzle)\n",
    "\n",
    "print(sudoku.mask)\n",
    "print(sudoku)\n",
    "print(sudoku.candidates)\n",
    "print(sudoku.abs_checks)"
   ]
  },
  {
   "cell_type": "markdown",
   "metadata": {},
   "source": [
    "#### Number of Turns"
   ]
  },
  {
   "cell_type": "markdown",
   "metadata": {},
   "source": [
    "#### Equal Gate"
   ]
  },
  {
   "cell_type": "code",
   "execution_count": 28,
   "metadata": {},
   "outputs": [
    {
     "data": {
      "image/png": "[encoded data removed]",
      "text/plain": [
       "<Figure size 653.348x445.48 with 1 Axes>"
      ]
     },
     "metadata": {},
     "output_type": "display_data"
    }
   ],
   "source": [
    "class EqualGate:\n",
    "\tdef __init__(self):\n",
    "\t\ta = QuantumRegister(2, name='a')\n",
    "\t\tb = QuantumRegister(2, name='b')\n",
    "\t\taux = QuantumRegister(2, name='aux')\n",
    "\t\tout = QuantumRegister(1, name='out')\n",
    "\t\t\n",
    "\t\tself.qc = QuantumCircuit(a, b, aux, out)\n",
    "\n",
    "\t\tself.qc.cx(a[0], aux[0])\n",
    "\t\tself.qc.cx(b[0], aux[0])\n",
    "\n",
    "\t\tself.qc.cx(a[1], aux[1])\n",
    "\t\tself.qc.cx(b[1], aux[1])\n",
    "\n",
    "\t\tself.qc.ccx(aux[0], aux[1], out)\n",
    "\n",
    "\t\tself.qc.cx(a[0], aux[0])\n",
    "\t\tself.qc.cx(b[0], aux[0])\n",
    "\t\t\n",
    "\t\tself.qc.cx(a[1], aux[1])\n",
    "\t\tself.qc.cx(b[1], aux[1])\n",
    "\n",
    "\t\tself.gate = self.qc.to_gate()\n",
    "\t\tself.gate.name = 'E'\n",
    "\n",
    "display_qc(EqualGate().qc)"
   ]
  },
  {
   "cell_type": "markdown",
   "metadata": {},
   "source": [
    "#### Oracle"
   ]
  },
  {
   "cell_type": "code",
   "execution_count": 69,
   "metadata": {},
   "outputs": [
    {
     "name": "stdout",
     "output_type": "stream",
     "text": [
      "??0000\n",
      "{(0, 0): {0, 3}, (0, 1): {0}, (2, 0): {0}}\n"
     ]
    },
    {
     "data": {
      "image/png": "[encoded data removed]",
      "text/plain": [
       "<Figure size 856.593x927.08 with 1 Axes>"
      ]
     },
     "metadata": {},
     "output_type": "display_data"
    }
   ],
   "source": [
    "class Oracle:\n",
    "    def __init__(self, sudoku:Sudoku):\n",
    "        n = sudoku.num_unknowns * 2\n",
    "\n",
    "        a = QuantumRegister(2, name='a')\n",
    "        x = QuantumRegister(n, name='x')\n",
    "        aux = QuantumRegister(2, name='aux')\n",
    "\n",
    "        check = QuantumRegister(len(sudoku.clauses) + len(sudoku.abs_checks), name='check')\n",
    "        out = QuantumRegister(1, name='out')\n",
    "\n",
    "        self.qc = QuantumCircuit(a, x, aux, check, out)\n",
    "\n",
    "        def set_a(val):\n",
    "            if val == 1:\n",
    "                self.qc.x(a[0])\n",
    "            elif val == 2:\n",
    "                self.qc.x(a[1])\n",
    "            elif val == 3:\n",
    "                self.qc.x(a[0])\n",
    "                self.qc.x(a[1])\n",
    "\n",
    "        def is_valid():\n",
    "            idx = 0\n",
    "            \n",
    "            for (i, j) in sudoku.clauses:\n",
    "                self.qc.append(EqualGate().gate, [\n",
    "                    2 + 2 * i,\n",
    "                    2 + 2 * i + 1,\n",
    "                    2 + 2 * j,\n",
    "                    2 + 2 * j + 1,\n",
    "                    aux0,\n",
    "                    aux1,\n",
    "                    check0 + idx\n",
    "                ])\n",
    "                idx = idx + 1\n",
    "            \n",
    "            for (i, val) in sudoku.abs_checks:\n",
    "                set_a(val)\n",
    "                self.qc.append(EqualGate().gate, [\n",
    "                    2 + 2 * i,\n",
    "                    2 + 2 * i + 1,\n",
    "                    0,\n",
    "                    1,\n",
    "                    aux0,\n",
    "                    aux1,\n",
    "                    check0 + idx\n",
    "                ])\n",
    "                set_a(val)\n",
    "                idx = idx + 1\n",
    "\n",
    "        aux0 = 2 + n\n",
    "        aux1 = aux0 + 1\n",
    "\n",
    "        check0 = aux1 + 1\n",
    "        \n",
    "        is_valid()\n",
    "\n",
    "        if len(check):\n",
    "            self.qc.mct(check, out)\n",
    "\n",
    "        is_valid()\n",
    "\n",
    "        self.gate = self.qc.to_gate()\n",
    "        self.gate.name = '$U_f$'\n",
    "\n",
    "puzzle = [\n",
    "    [-1, -1, 2, 1],\n",
    "    [2, 1, 0, 3],\n",
    "    [-1, 3, 1, 2],\n",
    "    [1, 2, 3, 0]\n",
    "]\n",
    "sudoku = Sudoku(puzzle)\n",
    "print(sudoku.mask)\n",
    "print(sudoku.candidates)\n",
    "\n",
    "oracle = Oracle(sudoku)\n",
    "display_qc(oracle.qc)"
   ]
  },
  {
   "cell_type": "markdown",
   "metadata": {},
   "source": [
    "#### Diffuser"
   ]
  },
  {
   "cell_type": "code",
   "execution_count": 30,
   "metadata": {},
   "outputs": [
    {
     "data": {
      "image/png": "[encoded data removed]",
      "text/plain": [
       "<Figure size 507.132x204.68 with 1 Axes>"
      ]
     },
     "metadata": {},
     "output_type": "display_data"
    }
   ],
   "source": [
    "class Diffuser:\n",
    "  def __init__(self, n):\n",
    "    x = QuantumRegister(n, 'x')\n",
    "    \n",
    "    self.qc = QuantumCircuit(x)\n",
    "\n",
    "    self.qc.h(x)\n",
    "\n",
    "    # R0\n",
    "    if n == 1:\n",
    "      self.qc.z(x)\n",
    "    else:\n",
    "      self.qc.x(x)\n",
    "      self.qc.h(x[n - 1])\n",
    "      self.qc.mct(list(range(n - 1)), n - 1)\n",
    "      self.qc.h(n - 1)\n",
    "      self.qc.x(x)\n",
    "\n",
    "    self.qc.h(x)\n",
    "    \n",
    "    self.gate = self.qc.to_gate()\n",
    "    self.gate.name = 'R$_s$'\n",
    "\n",
    "display_qc(Diffuser(3).qc)"
   ]
  },
  {
   "cell_type": "code",
   "execution_count": 75,
   "metadata": {},
   "outputs": [],
   "source": [
    "class SudokuSolver:\n",
    "    # theta(t) = (2t+1) * theta = pi/2\n",
    "    # sin(theta) = 1/sqrt(N)\n",
    "    # N = 2^n\n",
    "    def num_turns(self, n):\n",
    "        if n < 2:\n",
    "            return 0\n",
    "        elif n == 2:\n",
    "            return 1\n",
    "        N = 1 << n\n",
    "        theta = math.asin(1 / N**(1/2))\n",
    "        t = int((math.pi / (2 * theta) - 1) / 2)\n",
    "        return t\n",
    "\n",
    "    def process_results(self, counts) -> list:\n",
    "        state = max(zip(counts.values(), counts.keys()))[1]\n",
    "        \n",
    "        mask = sudoku.mask[::-1]\n",
    "        tmp = \"\"\n",
    "        i = 0\n",
    "        for j in range(len(mask)):\n",
    "            if mask[j] == '?':\n",
    "                tmp += state[i]\n",
    "                i = i + 1\n",
    "            else:\n",
    "                tmp += mask[j]\n",
    "        state = tmp\n",
    "\n",
    "        soln = []\n",
    "        i = 0\n",
    "        while i < len(state):\n",
    "            soln.append(int(state[i:i+2], 2))\n",
    "            i = i + 2\n",
    "        soln.reverse()\n",
    "        return soln\n",
    "\n",
    "    def __init__(self, sudoku:Sudoku):\n",
    "        n = sudoku.num_unknowns * 2\n",
    "        \n",
    "        unknown_bits = [2 + i for i in range(len(sudoku.mask)) if sudoku.mask[i] == '?']\n",
    "        self._n = len(unknown_bits)\n",
    "\n",
    "        a = QuantumRegister(2, name='a')\n",
    "        x = QuantumRegister(n, name='x')\n",
    "        aux = QuantumRegister(2, name='aux')\n",
    "        check = QuantumRegister(len(sudoku.clauses) + len(sudoku.abs_checks), name='check')\n",
    "        out = QuantumRegister(1, name='out')\n",
    "        soln =  ClassicalRegister(self._n, name='soln')\n",
    "\n",
    "        self.qc = QuantumCircuit(a, x, aux, check, out, soln)\n",
    "\n",
    "        self.qc.x(aux)\n",
    "        if check:\n",
    "            self.qc.x(check)\n",
    "        self.qc.initialize([1, -1] / np.sqrt(2), out)\n",
    "\n",
    "        # self.qc.h(x)\n",
    "        for i in range(n):\n",
    "            if sudoku.mask[i] == '?':\n",
    "                self.qc.h(x[i])\n",
    "            elif sudoku.mask[i] == '1':\n",
    "                self.qc.x(x[i])\n",
    "\n",
    "        self.qc.barrier()\n",
    "\n",
    "        self.oracle = Oracle(sudoku)\n",
    "        self.diff = None\n",
    "        if self._n:\n",
    "            self.diff = Diffuser(self._n)\n",
    "\n",
    "        self.t = self.num_turns(self._n)\n",
    "        for i in range(self.t):\n",
    "            self.qc.append(self.oracle.gate, list(range(self.qc.num_qubits)))\n",
    "            self.qc.append(self.diff.gate, unknown_bits)\n",
    "\n",
    "        self.qc.barrier()\n",
    "\n",
    "        self.qc.measure(unknown_bits, soln)"
   ]
  },
  {
   "cell_type": "markdown",
   "metadata": {},
   "source": [
    "### Execution"
   ]
  },
  {
   "cell_type": "markdown",
   "metadata": {},
   "source": [
    "#### Test"
   ]
  },
  {
   "cell_type": "code",
   "execution_count": 92,
   "metadata": {},
   "outputs": [],
   "source": [
    "def test(sudoku:Sudoku, shots=1 << 8):\n",
    "    solver = SudokuSolver(sudoku)\n",
    "    qc = solver.qc\n",
    "\n",
    "    aer_sim = Aer.get_backend('aer_simulator', backend_options={\"fusion_enable\":True})\n",
    "    transpiled_qc = transpile(qc, aer_sim)\n",
    "    qobj = assemble(transpiled_qc)\n",
    "    result = aer_sim.run(qobj, shots=shots, memory=True).result()\n",
    "    \n",
    "    try:\n",
    "        counts = result.get_counts()\n",
    "    except:\n",
    "        counts = {'': shots}\n",
    "    soln = solver.process_results(counts)\n",
    "    \n",
    "    sudoku.fill(soln)\n",
    "\n",
    "    return sudoku.is_valid()"
   ]
  },
  {
   "cell_type": "code",
   "execution_count": 94,
   "metadata": {},
   "outputs": [
    {
     "name": "stdout",
     "output_type": "stream",
     "text": [
      "╒═══╤═══╤════╤════╕\n",
      "│ 3 │ 0 │ -1 │ -1 │\n",
      "├───┼───┼────┼────┤\n",
      "│ 2 │ 1 │  0 │  3 │\n",
      "├───┼───┼────┼────┤\n",
      "│ 0 │ 3 │ -1 │ -1 │\n",
      "├───┼───┼────┼────┤\n",
      "│ 1 │ 2 │  3 │  0 │\n",
      "╘═══╧═══╧════╧════╛\n",
      "{0: {1, 2}, 1: {1, 2}, 2: {1, 2}, 3: {1, 2}}\n",
      "[(0, 1), (2, 3), (0, 2), (1, 3)]\n",
      "????????\n"
     ]
    }
   ],
   "source": [
    "puzzle = [\n",
    "    [3, 0, -1, -1],\n",
    "    [2, 1, 0, 3],\n",
    "    [0, 3, -1, -1],\n",
    "    [1, 2, 3, 0]\n",
    "]\n",
    "\n",
    "sudoku = Sudoku(puzzle)\n",
    "\n",
    "print(sudoku)\n",
    "print({i:v for i, (k, v) in enumerate(sudoku.candidates.items())})\n",
    "print(sudoku.clauses)\n",
    "print(sudoku.mask)\n",
    "solver = SudokuSolver(sudoku)\n",
    "test(sudoku, shots=1<<5)\n",
    "print(sudoku)"
   ]
  },
  {
   "cell_type": "code",
   "execution_count": 34,
   "metadata": {},
   "outputs": [
    {
     "data": {
      "image/png": "[encoded data removed]",
      "text/plain": [
       "<Figure size 506.987x144.48 with 1 Axes>"
      ]
     },
     "metadata": {},
     "output_type": "display_data"
    }
   ],
   "source": [
    "display_qc(solver.diff.qc)"
   ]
  },
  {
   "cell_type": "code",
   "execution_count": 54,
   "metadata": {},
   "outputs": [
    {
     "data": {
      "image/png": "[encoded data removed]",
      "text/plain": [
       "<Figure size 435.048x686.28 with 1 Axes>"
      ]
     },
     "metadata": {},
     "output_type": "display_data"
    }
   ],
   "source": [
    "display_qc(solver.oracle.qc)"
   ]
  },
  {
   "cell_type": "code",
   "execution_count": 93,
   "metadata": {},
   "outputs": [],
   "source": [
    "soln = [\n",
    "    [-1, -1, 2, 1],\n",
    "    [2, 1, 0, 3],\n",
    "    [-1, 3, 1, 2],\n",
    "    [1, 2, 3, 0]\n",
    "]\n",
    "\n",
    "for _ in range(100):\n",
    "    puzzle = soln\n",
    "    for i in range(3):\n",
    "        r = randint(0, len(soln) - 1)\n",
    "        c = randint(0, len(soln) - 1)\n",
    "        if random() < 0.5:\n",
    "            puzzle[r][c] = -1\n",
    "    sudoku = Sudoku(puzzle)\n",
    "    is_valid = test(sudoku, shots=1<<5)\n",
    "    if not is_valid:\n",
    "        print(sudoku)\n",
    "        raise AssertionError"
   ]
  }
 ],
 "metadata": {
  "kernelspec": {
   "display_name": "Python 3.9.13 64-bit (microsoft store)",
   "language": "python",
   "name": "python3"
  },
  "language_info": {
   "codemirror_mode": {
    "name": "ipython",
    "version": 3
   },
   "file_extension": ".py",
   "mimetype": "text/x-python",
   "name": "python",
   "nbconvert_exporter": "python",
   "pygments_lexer": "ipython3",
   "version": "3.9.13"
  },
  "orig_nbformat": 4,
  "vscode": {
   "interpreter": {
    "hash": "53d09f6352a7249148912198753cdea924accd91c0c2c9cd6b0f175915356922"
   }
  }
 },
 "nbformat": 4,
 "nbformat_minor": 2
}
